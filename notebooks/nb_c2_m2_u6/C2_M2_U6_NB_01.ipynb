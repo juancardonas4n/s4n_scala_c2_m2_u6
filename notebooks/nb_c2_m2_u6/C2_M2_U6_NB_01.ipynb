{
 "cells": [
  {
   "cell_type": "markdown",
   "metadata": {},
   "source": [
    "# Currificación y constructores\n",
    "\n",
    "## Currificación\n",
    "\n",
    "### Ejercicio 1. Un currificación simple\n",
    "\n",
    "La siguiente función que computa el área de un\n",
    "\n",
    "\n",
    "## Ejercicio 2. Inversión de los argumentos\n",
    "\n",
    "La currificación obliga que cada argumento debe ser puesto en orden de izquierda a derecha. Suponga una función con la siguiente firma:\n",
    "\n",
    "```{.scala}\n",
    "Int => Double => Double\n",
    "```\n",
    "\n",
    "El comportamiento de la función es adecuada para lo que usted necesita, pero tiene un problema. Un función `g` recibe una función que requiere dicho comportamiento, pero la función `g` en dicho parámetro tiene la siguiente firma: `Double => Int => Double`, lo que claramente hace imposible utilizar la función inicial. Pero, después de pensar un rato usted se da cuenta que puede crear una función llamada `inversaID2DI` que se encarga de producir la función necesaria.\n",
    "\n",
    "Implementa la función `inversaID2DI` de forma tal que tome una función e invierta sus parámetros originales."
   ]
  },
  {
   "cell_type": "code",
   "execution_count": null,
   "metadata": {
    "solution2": "hidden",
    "solution2_first": true
   },
   "outputs": [],
   "source": [
    "val sumaID = (a:Int) => (b:Double) => a + b\n",
    "val multID = (a:Int) => (b:Double) => a * b\n",
    "\n",
    "def inversaID2DI(f:Int => Double => Double):Double => Int => Double = ???\n",
    "\n",
    "val sumaDI:Double => Int => Double = inversaID2DI(sumaID)\n",
    "val multDI:Double => Int => Double = inversaID2DI(multID)\n",
    "\n",
    "sumaID(3)(4.0) == sumaDI(4.0)(3)\n",
    "multID(9)(5.0) == sumaDI(5.0)(9)"
   ]
  },
  {
   "cell_type": "code",
   "execution_count": null,
   "metadata": {
    "solution2": "hidden"
   },
   "outputs": [],
   "source": [
    "val sumaID = (a:Int) => (b:Double) => a + b\n",
    "val multID = (a:Int) => (b:Double) => a * b\n",
    "\n",
    "def inversaID2DI(f:Int => Double => Double):Double => Int => Double = (b:Double) => (a:Int) => f(a)(b)\n",
    "\n",
    "val sumaDI:Double => Int => Double = inversaID2DI(sumaID)\n",
    "val multDI:Double => Int => Double = inversaID2DI(multID)\n",
    "\n",
    "sumaID(3)(4.0) == sumaDI(4.0)(3)\n",
    "multID(9)(5.0) == multDI(5.0)(9)"
   ]
  },
  {
   "cell_type": "markdown",
   "metadata": {},
   "source": [
    "### Ejercicio 3. Currificación de funciones\n",
    "\n",
    "En muchos casos no podemos reescribir las funciones originales por que no tenemos el código, suponga que tiene una función con la siguiente firma: \n",
    "\n",
    "```{.scala}\n",
    "(Int,Double) => Double \n",
    "```\n",
    "\n",
    "Y obviamente una función con esta firma no puede ser utilizada el contexto de la currificación. \n",
    "\n",
    "### Ejercicio 3. Aplicación de la currificación (\n",
    "\n",
    "La currificación es la forma de crear funciones de forma tal que acepten un parámetro a la vez. El siguiente ejemplo es una muestra una función que calcula las raíces de segundo orden de una ecuación cuadrática"
   ]
  },
  {
   "cell_type": "code",
   "execution_count": null,
   "metadata": {},
   "outputs": [],
   "source": [
    "val cuadratica = (a:Double) => (b:Double) => (c:Double) => {\n",
    "  val b2 = b * b\n",
    "  val ac = 4 * a  * c\n",
    "  val a2 = 2 * a\n",
    "  val mb = -b\n",
    "  ((mb + math.sqrt(b2 - ac))/a2, (mb - math.sqrt(b2 - ac))/a2)\n",
    "}\n"
   ]
  },
  {
   "cell_type": "markdown",
   "metadata": {},
   "source": [
    "A continuación se puede observar la aplicación de esta función de forma currificada. "
   ]
  },
  {
   "cell_type": "code",
   "execution_count": null,
   "metadata": {},
   "outputs": [],
   "source": [
    "cuadratica(3)(-5)(-2)\n",
    "cuadratica(3)(-5)(-1)"
   ]
  },
  {
   "cell_type": "code",
   "execution_count": null,
   "metadata": {},
   "outputs": [],
   "source": [
    "def raicesC(a:Double,b:Double)(li:Int)(ls:Int):List[(Double,Double)] = {\n",
    "    val cuad_a_b = cuadratica(a)(b)\n",
    "    def iter(limInf:Int,res:List[(Double,Double)]):List[(Double,Double)] = \n",
    "        if (limInf > ls) res else iter(limInf +1, res :+ (cuad_a_b(limInf)))\n",
    "    iter(li,List())\n",
    "}"
   ]
  },
  {
   "cell_type": "code",
   "execution_count": null,
   "metadata": {},
   "outputs": [],
   "source": [
    "val raices3_5 = raicesC(3.0,5.0)_"
   ]
  },
  {
   "cell_type": "code",
   "execution_count": null,
   "metadata": {},
   "outputs": [],
   "source": [
    "raices3_5(-10)(1)"
   ]
  },
  {
   "cell_type": "code",
   "execution_count": null,
   "metadata": {},
   "outputs": [],
   "source": []
  }
 ],
 "metadata": {
  "kernelspec": {
   "display_name": "Scala",
   "language": "scala",
   "name": "scala"
  },
  "language_info": {
   "codemirror_mode": "text/x-scala",
   "file_extension": ".sc",
   "mimetype": "text/x-scala",
   "name": "scala",
   "nbconvert_exporter": "script",
   "version": "2.13.3"
  }
 },
 "nbformat": 4,
 "nbformat_minor": 4
}
