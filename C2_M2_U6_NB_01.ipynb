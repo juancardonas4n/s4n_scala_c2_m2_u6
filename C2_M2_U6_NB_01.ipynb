{
 "cells": [
  {
   "cell_type": "markdown",
   "metadata": {},
   "source": [
    "# Paso de parámetros, currificación y constructores\n",
    "\n",
    "## Paso de parámetros \n",
    "\n",
    "\n",
    "### Ejercicio 1. Es verdad o es falso o lo contrario\n",
    "\n",
    "En el siguiente código se pretende recrear lo que hace el constructor `if then else` en el lenguaje de programación Scala a través de la función `if_then_else`. Pero, la implementación actual no funciona. Corriga la función `if_then_else` se comporte cómo se espera."
   ]
  },
  {
   "cell_type": "code",
   "execution_count": null,
   "metadata": {
    "solution2": "hidden",
    "solution2_first": true
   },
   "outputs": [],
   "source": [
    "def if_then_else(pred:Boolean, thenPart:Unit, elsePart:Unit) = if (pred) thenPart else elsePart\n",
    "\n",
    "def notOkAction = { println(\"Not OK\")}\n",
    "def okAction    = { println(\"OK\") }\n",
    "\n",
    "if_then_else(true, okAction, notOkAction)\n",
    "if_then_else(false, okAction, notOkAction)"
   ]
  },
  {
   "cell_type": "code",
   "execution_count": null,
   "metadata": {
    "solution2": "hidden"
   },
   "outputs": [],
   "source": [
    "def if_then_else(pred:Boolean, thenPart: => Unit, elsePart: => Unit) = if (pred) thenPart else elsePart\n",
    "\n",
    "def notOkAction = { println(\"Not OK\")}\n",
    "def okAction    = { println(\"OK\") }\n",
    "\n",
    "if_then_else(true,  okAction, notOkAction)\n",
    "if_then_else(false, okAction, notOkAction)"
   ]
  },
  {
   "cell_type": "markdown",
   "metadata": {},
   "source": [
    "Observe que el resultado de las funciones ejecuta ambas acciones y lo que se espera es que ejecute una simple acción.\n",
    "\n",
    "## Currificación\n",
    "\n",
    "### Ejercicio 2. Inversión de los argumentos\n",
    "\n",
    "La currificación obliga que cada argumento debe ser puesto en orden de izquierda a derecha. Suponga una función con la siguiente firma:\n",
    "\n",
    "```{.scala}\n",
    "Int => Double => Double\n",
    "```\n",
    "\n",
    "El comportamiento de la función es adecuada para lo que usted necesita, pero tiene un problema. Un función `g` recibe una función que requiere dicho comportamiento, pero la función `g` en dicho parámetro tiene la siguiente firma: `Double => Int => Double`, lo que claramente hace imposible utilizar la función inicial. Pero, después de pensar un rato usted se da cuenta que puede crear una función llamada `inversaID2DI` que se encarga de producir la función necesaria.\n",
    "\n",
    "Implementa la función `inversaID2DI` de forma tal que tome una función e invierta sus parámetros originales."
   ]
  },
  {
   "cell_type": "code",
   "execution_count": null,
   "metadata": {
    "solution2": "hidden",
    "solution2_first": true
   },
   "outputs": [],
   "source": [
    "val sumaID = (a:Int) => (b:Double) => a + b\n",
    "val multID = (a:Int) => (b:Double) => a * b\n",
    "\n",
    "def inversaID2DI(f:Int => Double => Double):Double => Int => Double = ???\n",
    "\n",
    "val sumaDI:Double => Int => Double = inversaID2DI(sumaID)\n",
    "val multDI:Double => Int => Double = inversaID2DI(multID)\n",
    "\n",
    "sumaID(3)(4.0) == sumaDI(4.0)(3)\n",
    "multID(9)(5.0) == sumaDI(5.0)(9)"
   ]
  },
  {
   "cell_type": "code",
   "execution_count": null,
   "metadata": {
    "solution2": "hidden"
   },
   "outputs": [],
   "source": [
    "val sumaID = (a:Int) => (b:Double) => a + b\n",
    "val multID = (a:Int) => (b:Double) => a * b\n",
    "\n",
    "def inversaID2DI(f:Int => Double => Double):Double => Int => Double = (b:Double) => (a:Int) => f(a)(b)\n",
    "\n",
    "val sumaDI:Double => Int => Double = inversaID2DI(sumaID)\n",
    "val multDI:Double => Int => Double = inversaID2DI(multID)\n",
    "\n",
    "sumaID(3)(4.0) == sumaDI(4.0)(3)\n",
    "multID(9)(5.0) == multDI(5.0)(9)"
   ]
  },
  {
   "cell_type": "markdown",
   "metadata": {},
   "source": [
    "### Ejercicio 3. Currificación de funciones\n",
    "\n",
    "En muchos casos no podemos reescribir las funciones originales por que no tenemos el código, suponga que tiene una función con la siguiente firma: \n",
    "\n",
    "```{.scala}\n",
    "(Int,Double) => Double \n",
    "```\n",
    "\n",
    "Y obviamente una función con esta firma no puede ser utilizada el contexto de la currificación. Suponga que necesita el comportamiento de la función, pero la requiere de forma currificada. Vamos a implementar una función llamada `convertirACurry` que toma una función no currificada con la anterior firma y la convierte en su correspondiente versión currificada como se espera en la siguiente firma:\n",
    "\n",
    "```{.scala}\n",
    "Int => Double => Double\n",
    "```"
   ]
  },
  {
   "cell_type": "code",
   "execution_count": null,
   "metadata": {
    "solution2": "hidden",
    "solution2_first": true
   },
   "outputs": [],
   "source": [
    "val sumaNC = (a:Int,b:Double) => a + b\n",
    "val multNC = (a:Int,b:Double) => a * b\n",
    "\n",
    "def convertirACurry(f:(Int,Double) => Double):Int => Double => Double = ???\n",
    "\n",
    "val sumaC:Int => Double => Double = convertirACurry(sumaNC)\n",
    "val multC:Int => Double => Double = convertirACurry(multNCS)\n",
    "\n",
    "sumaNC(5,4.0) == sumaC(5)(4.0)\n",
    "multNC(3,8.1) == multC(3)(8.1)"
   ]
  },
  {
   "cell_type": "code",
   "execution_count": null,
   "metadata": {
    "solution2": "hidden"
   },
   "outputs": [],
   "source": [
    "val sumaNC = (a:Int,b:Double) => a + b\n",
    "val multNC = (a:Int,b:Double) => a * b\n",
    "\n",
    "def convertirACurry(f:(Int,Double) => Double):Int => Double => Double = (a:Int) => (b:Double) => f(a,b)\n",
    "\n",
    "val sumaC:Int => Double => Double = convertirACurry(sumaNC)\n",
    "val multC:Int => Double => Double = convertirACurry(multNC)\n",
    "\n",
    "sumaNC(5,4.0) == sumaC(5)(4.0)\n",
    "multNC(3,8.1) == multC(3)(8.1)"
   ]
  },
  {
   "cell_type": "markdown",
   "metadata": {},
   "source": [
    "### Ejercicio 4. Currificación de funciones (Revisited)\n",
    "\n",
    "Hemos observado anteriormente la diferencia entre funciones y métodos en Scala; y es de todos nosotros conocido que las funciones son objetos en Scala y por lo tanto tienen una serie de métodos ya previamente asignados. Revise la documentación de la clase `Function2` y observe que la currificación ya esta implementada. Te invitamos a modificar el siguiente código para que la funciones `sumaC` y `multC` sean transformadas aplicando el método de currificación definido en las correspondientes funciones `sumaNC` y `multNC`."
   ]
  },
  {
   "cell_type": "code",
   "execution_count": null,
   "metadata": {
    "solution2": "hidden",
    "solution2_first": true
   },
   "outputs": [],
   "source": [
    "val sumaNC = (a:Int,b:Double) => a + b\n",
    "val multNC = (a:Int,b:Double) => a * b\n",
    "\n",
    "val sumaC:Int => Double => Double = ???\n",
    "val multC:Int => Double => Double = ???\n",
    "\n",
    "sumaNC(3,9.3) == sumaC(3)(9.3)\n",
    "multNC(2,5.7) == multC(2)(5.7)"
   ]
  },
  {
   "cell_type": "code",
   "execution_count": null,
   "metadata": {
    "solution2": "hidden"
   },
   "outputs": [],
   "source": [
    "val sumaNC = (a:Int,b:Double) => a + b\n",
    "val multNC = (a:Int,b:Double) => a * b\n",
    "\n",
    "val sumaC:Int => Double => Double = sumaNC.curried\n",
    "val multC:Int => Double => Double = multNC.curried\n",
    "\n",
    "sumaNC(3,9.3) == sumaC(3)(9.3)\n",
    "multNC(2,5.7) == multC(2)(5.7)"
   ]
  },
  {
   "cell_type": "markdown",
   "metadata": {},
   "source": [
    "## Constructores\n",
    "\n",
    "### Ejercicio 5. If then else\n",
    "\n",
    "Como se ha dicho anteriormente, una de las ventajas de la currificación en conjunto con el paso por nombres y pasar bloques de instrucciones como argumentos, es que nos permite ampliar el lenguaje con nuevos constructores.\n",
    "\n",
    "En este caso vamos a retomar el ejercicio inicial del *notebook* y lo vamos a construir utilizando estos anteriores elementos."
   ]
  },
  {
   "cell_type": "code",
   "execution_count": null,
   "metadata": {
    "solution2": "hidden",
    "solution2_first": true
   },
   "outputs": [],
   "source": [
    "def if_then_else = ???\n",
    "\n",
    "val a = 20\n",
    "if_then_else(a > 10) {\n",
    "    println(\"This is then part\")\n",
    "} {\n",
    "    println(\"This is else part\")\n",
    "}\n",
    "\n",
    "val b = 10\n",
    "if_then_else(b != 10)  {\n",
    "    println(\"This is then part\")\n",
    "} {\n",
    "    println(\"This is else part\")\n",
    "}"
   ]
  },
  {
   "cell_type": "code",
   "execution_count": null,
   "metadata": {
    "solution2": "hidden"
   },
   "outputs": [],
   "source": [
    "def if_then_else(pred: Boolean)(tp: => Unit)(ep: => Unit) = if (pred) tp else ep\n",
    "\n",
    "val a = 20\n",
    "if_then_else(a > 10) {\n",
    "    println(\"This is then part\")\n",
    "} {\n",
    "    println(\"This is else part\")\n",
    "}\n",
    "\n",
    "val b = 10\n",
    "if_then_else(b != 10)  {\n",
    "    println(\"This is then part\")\n",
    "} {\n",
    "    println(\"This is else part\")\n",
    "}"
   ]
  }
 ],
 "metadata": {
  "kernelspec": {
   "display_name": "Scala",
   "language": "scala",
   "name": "scala"
  },
  "language_info": {
   "codemirror_mode": "text/x-scala",
   "file_extension": ".sc",
   "mimetype": "text/x-scala",
   "name": "scala",
   "nbconvert_exporter": "script",
   "version": "2.13.3"
  }
 },
 "nbformat": 4,
 "nbformat_minor": 4
}
